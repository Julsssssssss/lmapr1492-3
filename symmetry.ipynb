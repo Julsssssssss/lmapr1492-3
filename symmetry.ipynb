{
 "cells": [
  {
   "cell_type": "code",
   "execution_count": 1,
   "id": "7ee289f6",
   "metadata": {},
   "outputs": [],
   "source": [
    "from pymatgen.ext.matproj import MPRester\n",
    "from pymatgen.symmetry.analyzer import SpacegroupAnalyzer\n",
    "from jupyter_jsmol.pymatgen import quick_view\n",
    "from jupyter_jsmol import JsmolView\n",
    "from ipywidgets import Layout, widgets, interact\n",
    "\n"
   ]
  },
  {
   "cell_type": "code",
   "execution_count": 2,
   "id": "6d66acdd",
   "metadata": {},
   "outputs": [
    {
     "name": "stdout",
     "output_type": "stream",
     "text": [
      "Full Formula (Zr1 In1 Au1)\n",
      "Reduced Formula: ZrInAu\n",
      "abc   :   4.614082   4.614082   4.614082\n",
      "angles:  60.000000  60.000000  60.000000\n",
      "Sites (3)\n",
      "  #  SP       a     b     c    magmom\n",
      "---  ----  ----  ----  ----  --------\n",
      "  0  Zr    0     0     0            0\n",
      "  1  In    0.5   0.5   0.5          0\n",
      "  2  Au    0.75  0.75  0.75        -0\n"
     ]
    },
    {
     "data": {
      "application/vnd.jupyter.widget-view+json": {
       "model_id": "8190bfa3d34b4aecb2446994b14b35d2",
       "version_major": 2,
       "version_minor": 0
      },
      "text/plain": [
       "JsmolView(layout=Layout(align_self='stretch', height='400px'))"
      ]
     },
     "metadata": {},
     "output_type": "display_data"
    }
   ],
   "source": [
    "with MPRester(\"afEtUeAVrpiToqMH\") as m:\n",
    "\n",
    "    # Structure for material id\n",
    "    structure = m.get_structure_by_material_id(\"mp-961693\")\n",
    "\n",
    "    structure.to(filename=f'{\"mp-961693\"}.cif')\n",
    "    print(structure)\n",
    "\n",
    "    view = quick_view(structure, conventional=True)\n",
    "    display(view)\n",
    "    view.script(\"select all; label on\")\n",
    "\n",
    "\n",
    "    \n",
    "    "
   ]
  },
  {
   "cell_type": "code",
   "execution_count": 3,
   "id": "303ffc92",
   "metadata": {},
   "outputs": [],
   "source": [
    "Zr = [0.5,0,0.5]\n",
    "In = [0.5,0.5,0.5]\n",
    "Au = [0.75,0.75,0.75]\n",
    "\n",
    "symmetry = SpacegroupAnalyzer(structure).get_symmetry_operations()"
   ]
  },
  {
   "cell_type": "code",
   "execution_count": 4,
   "id": "48a4276f",
   "metadata": {},
   "outputs": [
    {
     "name": "stdout",
     "output_type": "stream",
     "text": [
      "Symétrie Plan miroir (y, x, z)\n",
      "La position du Zr passe de [0.5, 0, 0.5]  à  [0.  0.5 0.5] \n",
      "\n",
      "Matrice de rotation et vecteur de translation : \n",
      " Rot:\n",
      "[[0. 1. 0.]\n",
      " [1. 0. 0.]\n",
      " [0. 0. 1.]]\n",
      "tau\n",
      "[0. 0. 0.]\n"
     ]
    }
   ],
   "source": [
    "Zrp = symmetry[13].operate(Zr)\n",
    "\n",
    "print(\"Symétrie Plan miroir (y, x, z)\")\n",
    "print(\"La position du Zr passe de\", Zr, \" à \", Zrp,\"\\n\")\n",
    "\n",
    "print(\"Matrice de rotation et vecteur de translation : \\n\", symmetry[13])\n"
   ]
  },
  {
   "cell_type": "code",
   "execution_count": 5,
   "id": "ffd1b1e6",
   "metadata": {},
   "outputs": [
    {
     "data": {
      "application/vnd.jupyter.widget-view+json": {
       "model_id": "6f5b1515341140c88edfb8915d20d45c",
       "version_major": 2,
       "version_minor": 0
      },
      "text/plain": [
       "JsmolView(layout=Layout(align_self='stretch', height='400px'))"
      ]
     },
     "metadata": {},
     "output_type": "display_data"
    }
   ],
   "source": [
    "view1 = quick_view(structure, conventional=True)\n",
    "display(view1)\n",
    "view1.script('draw SYMOP \"y,x,z\" {atomno=11}')"
   ]
  },
  {
   "cell_type": "code",
   "execution_count": 6,
   "id": "e70a31fa",
   "metadata": {},
   "outputs": [
    {
     "name": "stdout",
     "output_type": "stream",
     "text": [
      "Symétrie C3 axis (y, z, x)\n",
      "La position du In passe de [0.5, 0.5, 0.5]  à  [0.5 0.5 0.5] \n",
      "\n",
      "Matrice de rotation et vecteur de translation : \n",
      " Rot:\n",
      "[[0. 1. 0.]\n",
      " [0. 0. 1.]\n",
      " [1. 0. 0.]]\n",
      "tau\n",
      "[0. 0. 0.]\n"
     ]
    }
   ],
   "source": [
    "Inp = symmetry[10].operate(In)\n",
    "\n",
    "print(\"Symétrie C3 axis (y, z, x)\")\n",
    "print(\"La position du In passe de\", In, \" à \", Inp,\"\\n\")\n",
    "\n",
    "print(\"Matrice de rotation et vecteur de translation : \\n\", symmetry[10])"
   ]
  },
  {
   "cell_type": "code",
   "execution_count": 7,
   "id": "1b149174",
   "metadata": {},
   "outputs": [
    {
     "data": {
      "application/vnd.jupyter.widget-view+json": {
       "model_id": "65d95ed7f5854e25b1e0c6019101425b",
       "version_major": 2,
       "version_minor": 0
      },
      "text/plain": [
       "JsmolView(layout=Layout(align_self='stretch', height='400px'))"
      ]
     },
     "metadata": {},
     "output_type": "display_data"
    }
   ],
   "source": [
    "view2 = quick_view(structure, conventional=True)\n",
    "display(view2)\n",
    "view2.script('draw SYMOP \"y,z,x\" {atomno=7}')"
   ]
  },
  {
   "cell_type": "code",
   "execution_count": 8,
   "id": "10c44503",
   "metadata": {},
   "outputs": [
    {
     "name": "stdout",
     "output_type": "stream",
     "text": [
      "Symétrie Plan miroir (z, y, x)\n",
      "La position du Au passe de [0.75, 0.75, 0.75]  à  [0.75 0.75 0.75] \n",
      "\n",
      "Matrice de rotation et vecteur de translation : \n",
      " Rot:\n",
      "[[0. 0. 1.]\n",
      " [0. 1. 0.]\n",
      " [1. 0. 0.]]\n",
      "tau\n",
      "[0. 0. 0.]\n"
     ]
    }
   ],
   "source": [
    "Aup = symmetry[7].operate(Au)\n",
    "\n",
    "print(\"Symétrie Plan miroir (z, y, x)\")\n",
    "print(\"La position du Au passe de\", Au, \" à \", Aup,\"\\n\")\n",
    "\n",
    "print(\"Matrice de rotation et vecteur de translation : \\n\", symmetry[7])"
   ]
  },
  {
   "cell_type": "code",
   "execution_count": 9,
   "id": "fb0d9d31",
   "metadata": {},
   "outputs": [
    {
     "data": {
      "application/vnd.jupyter.widget-view+json": {
       "model_id": "44fc739424c64aae9d7a04b55a955fc4",
       "version_major": 2,
       "version_minor": 0
      },
      "text/plain": [
       "JsmolView(layout=Layout(align_self='stretch', height='400px'))"
      ]
     },
     "metadata": {},
     "output_type": "display_data"
    }
   ],
   "source": [
    "view3 = quick_view(structure, conventional=True)\n",
    "display(view3)\n",
    "view3.script('draw SYMOP \"z,y,x\" {atomno=4}')"
   ]
  }
 ],
 "metadata": {
  "kernelspec": {
   "display_name": "Python 3",
   "language": "python",
   "name": "python3"
  },
  "language_info": {
   "codemirror_mode": {
    "name": "ipython",
    "version": 3
   },
   "file_extension": ".py",
   "mimetype": "text/x-python",
   "name": "python",
   "nbconvert_exporter": "python",
   "pygments_lexer": "ipython3",
   "version": "3.6.8"
  }
 },
 "nbformat": 4,
 "nbformat_minor": 5
}
