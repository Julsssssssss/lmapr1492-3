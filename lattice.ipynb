{
 "cells": [
  {
   "cell_type": "code",
   "execution_count": 29,
   "id": "db632fc0",
   "metadata": {},
   "outputs": [
    {
     "name": "stdout",
     "output_type": "stream",
     "text": [
      "Full Formula (Zr1 In1 Au1)\n",
      "Reduced Formula: ZrInAu\n",
      "abc   :   4.614082   4.614082   4.614082\n",
      "angles:  60.000000  60.000000  60.000000\n",
      "Sites (3)\n",
      "  #  SP       a     b     c    magmom\n",
      "---  ----  ----  ----  ----  --------\n",
      "  0  Zr    0     0     0            0\n",
      "  1  In    0.5   0.5   0.5          0\n",
      "  2  Au    0.75  0.75  0.75        -0\n"
     ]
    }
   ],
   "source": [
    "from pymatgen.ext.matproj import MPRester\n",
    "from pymatgen.symmetry.analyzer import SpacegroupAnalyzer\n",
    "\n",
    "with MPRester(\"afEtUeAVrpiToqMH\") as m:\n",
    "\n",
    "    # Structure for material id\n",
    "    structure = m.get_structure_by_material_id(\"mp-961693\")\n",
    "\n",
    "    structure.to(filename=f'{\"mp-961693\"}.cif')\n",
    "    print(structure)"
   ]
  },
  {
   "cell_type": "code",
   "execution_count": 33,
   "id": "b29327cd",
   "metadata": {},
   "outputs": [
    {
     "name": "stdout",
     "output_type": "stream",
     "text": [
      "Paramètres du réseau direct : \n",
      "\n",
      "a : ( 4.614082465063016 , 0, 0) \n",
      "\n",
      "b : (0, 4.614082465063016 , 0) \n",
      "\n",
      "c : (0, 0,  4.614082465063016 ) \n",
      "\n",
      "α : 60.00000000000001 °\n",
      "\n",
      "β : 60.00000000000001 °\n",
      "\n",
      "γ : 60.00000000000001 °\n",
      "\n",
      "Paramètres du réseau réciproque : \n",
      "\n",
      "a* : ( 0.265436277020433 , 0, 0) \n",
      "\n",
      "b* : (0, 0.265436277020433 , 0) \n",
      "\n",
      "c* : (0, 0,  0.265436277020433 ) \n",
      "\n",
      "α* : 109.47122063449069 °\n",
      "\n",
      "β* : 109.47122063449069 °\n",
      "\n",
      "γ* : 109.47122063449069 °\n",
      "\n"
     ]
    }
   ],
   "source": [
    "vec = structure.lattice\n",
    "\n",
    "#direct\n",
    "\n",
    "print(\"Paramètres du réseau direct : \\n\")\n",
    "print(\"a : (\",vec.a,\", 0, 0) \\n\")\n",
    "print(\"b : (0,\",vec.b,\", 0) \\n\")\n",
    "print(\"c : (0, 0, \",vec.c,\") \\n\")\n",
    "print(\"α :\",vec.angles[0],\"°\\n\")\n",
    "print(\"β :\",vec.angles[1],\"°\\n\")\n",
    "print(\"γ :\",vec.angles[2],\"°\\n\")\n",
    "\n",
    "#réciproque\n",
    "\n",
    "vec = vec.reciprocal_lattice_crystallographic\n",
    "\n",
    "print(\"Paramètres du réseau réciproque : \\n\")\n",
    "print(\"a* : (\",vec.a,\", 0, 0) \\n\")\n",
    "print(\"b* : (0,\",vec.b,\", 0) \\n\")\n",
    "print(\"c* : (0, 0, \",vec.c,\") \\n\")\n",
    "print(\"α* :\",vec.angles[0],\"°\\n\")\n",
    "print(\"β* :\",vec.angles[1],\"°\\n\")\n",
    "print(\"γ* :\",vec.angles[2],\"°\\n\")"
   ]
  },
  {
   "cell_type": "code",
   "execution_count": 31,
   "id": "a905a44b",
   "metadata": {},
   "outputs": [
    {
     "name": "stdout",
     "output_type": "stream",
     "text": [
      "Type de maille :  cubic  \n",
      "\n",
      "Système cristallin :  cubic  \n",
      "\n",
      "Groupe ponctuel :  -43m  \n",
      "\n"
     ]
    }
   ],
   "source": [
    "struct_anal = SpacegroupAnalyzer(structure)\n",
    "\n",
    "maille = struct_anal.get_lattice_type() \n",
    "print(\"Type de maille : \",maille,\" \\n\")\n",
    "\n",
    "systeme_crist = struct_anal.get_crystal_system()\n",
    "\n",
    "print(\"Système cristallin : \",systeme_crist,\" \\n\")\n",
    "\n",
    "groupe = struct_anal.get_point_group_symbol() \n",
    "print(\"Groupe ponctuel : \",groupe,\" \\n\")\n"
   ]
  },
  {
   "cell_type": "code",
   "execution_count": null,
   "id": "3e09f942",
   "metadata": {},
   "outputs": [],
   "source": []
  }
 ],
 "metadata": {
  "kernelspec": {
   "display_name": "Python 3",
   "language": "python",
   "name": "python3"
  },
  "language_info": {
   "codemirror_mode": {
    "name": "ipython",
    "version": 3
   },
   "file_extension": ".py",
   "mimetype": "text/x-python",
   "name": "python",
   "nbconvert_exporter": "python",
   "pygments_lexer": "ipython3",
   "version": "3.6.8"
  }
 },
 "nbformat": 4,
 "nbformat_minor": 5
}
